{
 "cells": [
  {
   "cell_type": "code",
   "execution_count": 2,
   "id": "423cee41-9847-4ae6-b9c5-bce9ddc1a48a",
   "metadata": {},
   "outputs": [
    {
     "name": "stdin",
     "output_type": "stream",
     "text": [
      "enter your marks 30\n"
     ]
    },
    {
     "ename": "TypeError",
     "evalue": "'>=' not supported between instances of 'str' and 'int'",
     "output_type": "error",
     "traceback": [
      "\u001b[0;31m---------------------------------------------------------------------------\u001b[0m",
      "\u001b[0;31mTypeError\u001b[0m                                 Traceback (most recent call last)",
      "Cell \u001b[0;32mIn[2], line 2\u001b[0m\n\u001b[1;32m      1\u001b[0m marks \u001b[38;5;241m=\u001b[39m \u001b[38;5;28minput\u001b[39m(\u001b[38;5;124m\"\u001b[39m\u001b[38;5;124menter your marks\u001b[39m\u001b[38;5;124m\"\u001b[39m)\n\u001b[0;32m----> 2\u001b[0m \u001b[38;5;28;01mif\u001b[39;00m \u001b[43mmarks\u001b[49m\u001b[43m \u001b[49m\u001b[38;5;241;43m>\u001b[39;49m\u001b[38;5;241;43m=\u001b[39;49m\u001b[43m \u001b[49m\u001b[38;5;241;43m80\u001b[39;49m:\n\u001b[1;32m      3\u001b[0m     \u001b[38;5;28mprint\u001b[39m(\u001b[38;5;124m\"\u001b[39m\u001b[38;5;124myou will be a part of A0 batch\u001b[39m\u001b[38;5;124m\"\u001b[39m)  \n\u001b[1;32m      4\u001b[0m \u001b[38;5;28;01melif\u001b[39;00m marks \u001b[38;5;241m>\u001b[39m\u001b[38;5;241m=\u001b[39m\u001b[38;5;241m60\u001b[39m \u001b[38;5;129;01mand\u001b[39;00m marks \u001b[38;5;241m<\u001b[39m\u001b[38;5;241m80\u001b[39m:\n",
      "\u001b[0;31mTypeError\u001b[0m: '>=' not supported between instances of 'str' and 'int'"
     ]
    }
   ],
   "source": [
    "marks = 32\n",
    "if marks >= 80:\n",
    "    print(\"you will be a part of A0 batch\")  \n",
    "elif marks >=60 and marks <80:\n",
    "    print(\"you will be a part of A1 batch\") \n",
    "elif marks >=40 and marks <60:\n",
    "    print(\"you will be a part of A2 batch\")\n",
    "else :\n",
    "    print(\"you will be a part of A3 batch\")"
   ]
  },
  {
   "cell_type": "code",
   "execution_count": 3,
   "id": "b0f3b562-2a9a-4c9a-b995-619ff7d2fe1f",
   "metadata": {},
   "outputs": [
    {
     "name": "stdin",
     "output_type": "stream",
     "text": [
      "enter the number 38\n"
     ]
    },
    {
     "name": "stdout",
     "output_type": "stream",
     "text": [
      "you will be a part of A3 batch\n"
     ]
    }
   ],
   "source": [
    "marks = int(input(\"enter the number\"))\n",
    "if marks >= 80:\n",
    "    print(\"you will be a part of A+ batch\")  \n",
    "elif marks >=60 and marks <80:\n",
    "    print(\"you will be a part of A1 batch\") \n",
    "elif marks >=40 and marks <60:\n",
    "    print(\"you will be a part of A2 batch\")\n",
    "else :\n",
    "    print(\"you will be a part of A3 batch\")"
   ]
  },
  {
   "cell_type": "code",
   "execution_count": 9,
   "id": "595905e3-dc63-4e64-8339-14e41f7948e1",
   "metadata": {},
   "outputs": [
    {
     "data": {
      "text/plain": [
       "False"
      ]
     },
     "execution_count": 9,
     "metadata": {},
     "output_type": "execute_result"
    }
   ],
   "source": [
    "20>=57"
   ]
  },
  {
   "cell_type": "code",
   "execution_count": 10,
   "id": "70360290-476a-468a-877e-a33100642e64",
   "metadata": {},
   "outputs": [
    {
     "data": {
      "text/plain": [
       "32"
      ]
     },
     "execution_count": 10,
     "metadata": {},
     "output_type": "execute_result"
    }
   ],
   "source": [
    "marks"
   ]
  },
  {
   "cell_type": "code",
   "execution_count": 12,
   "id": "63fd4326-ae12-4402-9489-7d11fe7bccc0",
   "metadata": {},
   "outputs": [
    {
     "name": "stdin",
     "output_type": "stream",
     "text": [
      "enter price 975\n"
     ]
    },
    {
     "name": "stdout",
     "output_type": "stream",
     "text": [
      "i will purchase\n"
     ]
    }
   ],
   "source": [
    "price = int(input(\"enter price\"))\n",
    "if price > 1000:\n",
    "   print (\"i will not purchase\")\n",
    "else : \n",
    "    print (\"i will purchase\")"
   ]
  },
  {
   "cell_type": "code",
   "execution_count": 19,
   "id": "344e8e95-e338-47d2-b9fa-1a76a5f7d164",
   "metadata": {},
   "outputs": [
    {
     "name": "stdin",
     "output_type": "stream",
     "text": [
      "enter price 7000\n"
     ]
    },
    {
     "name": "stdout",
     "output_type": "stream",
     "text": [
      "i will not purchase\n",
      "this is too much\n"
     ]
    }
   ],
   "source": [
    "price = int(input(\"enter price\"))\n",
    "if price > 1000:\n",
    "        print(\"i will not purchase\")\n",
    "        if price > 5000:\n",
    "            print (\"this is too much\")\n",
    "        elif price    "
   ]
  },
  {
   "cell_type": "code",
   "execution_count": 1,
   "id": "14692e4c-84b1-46be-b92d-831b045f7a0b",
   "metadata": {},
   "outputs": [
    {
     "name": "stdin",
     "output_type": "stream",
     "text": [
      "enter price 2000\n"
     ]
    },
    {
     "name": "stdout",
     "output_type": "stream",
     "text": [
      "i will not purchase\n"
     ]
    }
   ],
   "source": [
    "price = int(input(\"enter price\"))\n",
    "if price > 1000:\n",
    "   print (\"i will not purchase\")\n",
    "else : \n",
    "    print (\"i will purchase\")"
   ]
  },
  {
   "cell_type": "code",
   "execution_count": 4,
   "id": "8716c0eb-6615-4adf-8e0f-119f79c84672",
   "metadata": {},
   "outputs": [
    {
     "name": "stdin",
     "output_type": "stream",
     "text": [
      "enter price 40241\n"
     ]
    },
    {
     "name": "stdout",
     "output_type": "stream",
     "text": [
      "i will not purchase\n"
     ]
    }
   ],
   "source": [
    "price = int(input(\"enter price\"))\n",
    "if price > 5000:\n",
    "   print (\"i will not purchase\")\n",
    "    if \n",
    "else : \n",
    "    print (\"i will purchase\")"
   ]
  },
  {
   "cell_type": "code",
   "execution_count": 4,
   "id": "1cbdd5ad-1bf5-49b9-97d2-c41117cb2f82",
   "metadata": {},
   "outputs": [],
   "source": [
    "a=[\" hello divya\"]"
   ]
  },
  {
   "cell_type": "code",
   "execution_count": 5,
   "id": "0b4be999-2fb7-472c-bda4-d4ab64144aa7",
   "metadata": {},
   "outputs": [
    {
     "data": {
      "text/plain": [
       "[' hello divya']"
      ]
     },
     "execution_count": 5,
     "metadata": {},
     "output_type": "execute_result"
    }
   ],
   "source": [
    "a"
   ]
  },
  {
   "cell_type": "code",
   "execution_count": 6,
   "id": "eaac1185-d2a3-4d52-8339-bc5eb2d0dbd8",
   "metadata": {},
   "outputs": [],
   "source": [
    "a={}"
   ]
  },
  {
   "cell_type": "code",
   "execution_count": 7,
   "id": "fb7713c5-9a09-4fc2-9fd4-2c474f5e950f",
   "metadata": {},
   "outputs": [
    {
     "data": {
      "text/plain": [
       "{}"
      ]
     },
     "execution_count": 7,
     "metadata": {},
     "output_type": "execute_result"
    }
   ],
   "source": [
    "a"
   ]
  },
  {
   "cell_type": "code",
   "execution_count": 8,
   "id": "1d1f9c8e-2efc-4e47-b98b-98ca87e09c7d",
   "metadata": {},
   "outputs": [
    {
     "data": {
      "text/plain": [
       "dict"
      ]
     },
     "execution_count": 8,
     "metadata": {},
     "output_type": "execute_result"
    }
   ],
   "source": [
    "type(a)"
   ]
  },
  {
   "cell_type": "code",
   "execution_count": 9,
   "id": "a0206568-352e-4448-b911-1f3f3b246014",
   "metadata": {},
   "outputs": [],
   "source": [
    "a=[2]"
   ]
  },
  {
   "cell_type": "code",
   "execution_count": 10,
   "id": "aa7310c9-3ee7-49a8-9439-062253d1c401",
   "metadata": {},
   "outputs": [],
   "source": [
    "b=[6]"
   ]
  },
  {
   "cell_type": "code",
   "execution_count": 11,
   "id": "94a318d6-4380-492a-875e-2f455191c739",
   "metadata": {},
   "outputs": [
    {
     "data": {
      "text/plain": [
       "[6]"
      ]
     },
     "execution_count": 11,
     "metadata": {},
     "output_type": "execute_result"
    }
   ],
   "source": [
    "b"
   ]
  },
  {
   "cell_type": "code",
   "execution_count": 12,
   "id": "7a02fd84-2349-41aa-b974-2da12db23a79",
   "metadata": {},
   "outputs": [
    {
     "data": {
      "text/plain": [
       "[2]"
      ]
     },
     "execution_count": 12,
     "metadata": {},
     "output_type": "execute_result"
    }
   ],
   "source": [
    "a"
   ]
  },
  {
   "cell_type": "code",
   "execution_count": 13,
   "id": "9ad6d9b1-b1e3-4d4f-a67a-f63afd569581",
   "metadata": {},
   "outputs": [
    {
     "data": {
      "text/plain": [
       "[2, 6]"
      ]
     },
     "execution_count": 13,
     "metadata": {},
     "output_type": "execute_result"
    }
   ],
   "source": [
    "a+b"
   ]
  },
  {
   "cell_type": "code",
   "execution_count": 14,
   "id": "7fe51905-71bc-4555-95d1-2d15c65f46cd",
   "metadata": {},
   "outputs": [],
   "source": [
    "p=[\"raj\" , \"divya\" , \"vishal\"]"
   ]
  },
  {
   "cell_type": "code",
   "execution_count": 15,
   "id": "dd1a692d-52a3-40c2-bef2-e894039f738c",
   "metadata": {},
   "outputs": [
    {
     "data": {
      "text/plain": [
       "['raj', 'divya', 'vishal']"
      ]
     },
     "execution_count": 15,
     "metadata": {},
     "output_type": "execute_result"
    }
   ],
   "source": [
    "p"
   ]
  },
  {
   "cell_type": "code",
   "execution_count": 19,
   "id": "ca12fbfc-94b0-4944-888b-5d61cbd4b962",
   "metadata": {},
   "outputs": [],
   "source": [
    "a[\"name\"] : [\"vishal\"]"
   ]
  },
  {
   "cell_type": "code",
   "execution_count": 20,
   "id": "56245be7-5f1e-4f04-ae6c-193df10c07ad",
   "metadata": {},
   "outputs": [
    {
     "data": {
      "text/plain": [
       "[2]"
      ]
     },
     "execution_count": 20,
     "metadata": {},
     "output_type": "execute_result"
    }
   ],
   "source": [
    "a"
   ]
  },
  {
   "cell_type": "code",
   "execution_count": 24,
   "id": "d7aa6d77-a6dd-4817-9d31-92bcd81168e6",
   "metadata": {},
   "outputs": [],
   "source": [
    "d={\"name\" : \"divya\" , \"fruit\" : \"mango\"}"
   ]
  },
  {
   "cell_type": "code",
   "execution_count": 25,
   "id": "2929ba0b-026c-4acf-9350-f0e9177e9242",
   "metadata": {},
   "outputs": [
    {
     "data": {
      "text/plain": [
       "{'name': 'divya', 'fruit': 'mango'}"
      ]
     },
     "execution_count": 25,
     "metadata": {},
     "output_type": "execute_result"
    }
   ],
   "source": [
    "d"
   ]
  },
  {
   "cell_type": "code",
   "execution_count": 31,
   "id": "1710e0d9-1c55-4708-ab5d-d6c20e069c74",
   "metadata": {},
   "outputs": [],
   "source": [
    "d[\"sub\"] = [\"bio\"] "
   ]
  },
  {
   "cell_type": "code",
   "execution_count": 32,
   "id": "883ea1eb-b9bb-4899-81e1-bb08b2ba9902",
   "metadata": {},
   "outputs": [
    {
     "data": {
      "text/plain": [
       "{'name': 'divya', 'fruit': 'mango', 'sub': ['bio']}"
      ]
     },
     "execution_count": 32,
     "metadata": {},
     "output_type": "execute_result"
    }
   ],
   "source": [
    "d"
   ]
  },
  {
   "cell_type": "code",
   "execution_count": 33,
   "id": "0f2836ea-0c20-4286-8177-a63ef6b8201e",
   "metadata": {},
   "outputs": [
    {
     "data": {
      "text/plain": [
       "dict"
      ]
     },
     "execution_count": 33,
     "metadata": {},
     "output_type": "execute_result"
    }
   ],
   "source": [
    "type(d)"
   ]
  },
  {
   "cell_type": "code",
   "execution_count": 34,
   "id": "89df4e9c-1aa6-420d-a74c-977b62124985",
   "metadata": {},
   "outputs": [],
   "source": [
    "a=[3,4,5,6,6]"
   ]
  },
  {
   "cell_type": "code",
   "execution_count": 35,
   "id": "549d6fc1-7e71-4827-a2e4-f12c97b7e99f",
   "metadata": {},
   "outputs": [
    {
     "data": {
      "text/plain": [
       "[3, 4, 5, 6, 6]"
      ]
     },
     "execution_count": 35,
     "metadata": {},
     "output_type": "execute_result"
    }
   ],
   "source": [
    "a"
   ]
  },
  {
   "cell_type": "code",
   "execution_count": 36,
   "id": "ba972ca0-09a0-4eb4-b0b4-cb50d27dc832",
   "metadata": {},
   "outputs": [],
   "source": [
    "a.append(9)"
   ]
  },
  {
   "cell_type": "code",
   "execution_count": 37,
   "id": "1e999828-10b4-4cb1-96e8-e972ca38bef5",
   "metadata": {},
   "outputs": [
    {
     "data": {
      "text/plain": [
       "[3, 4, 5, 6, 6, 9]"
      ]
     },
     "execution_count": 37,
     "metadata": {},
     "output_type": "execute_result"
    }
   ],
   "source": [
    "a"
   ]
  },
  {
   "cell_type": "code",
   "execution_count": 41,
   "id": "fddbcb31-5367-46b9-81d0-ce0e300fa415",
   "metadata": {},
   "outputs": [
    {
     "data": {
      "text/plain": [
       "6"
      ]
     },
     "execution_count": 41,
     "metadata": {},
     "output_type": "execute_result"
    }
   ],
   "source": [
    "a.pop(-1)"
   ]
  },
  {
   "cell_type": "code",
   "execution_count": 1,
   "id": "9e3d8e9a-5773-4f26-8d98-ee433cd0c770",
   "metadata": {},
   "outputs": [
    {
     "name": "stdin",
     "output_type": "stream",
     "text": [
      "enter the number 9849\n"
     ]
    },
    {
     "name": "stdout",
     "output_type": "stream",
     "text": [
      "you will be a part of A+ batch\n"
     ]
    }
   ],
   "source": [
    "marks = int(input(\"enter the number\"))\n",
    "if marks >= 80:\n",
    "    print(\"you will be a part of A+ batch\")  \n",
    "elif marks >=60 and marks <80:\n",
    "    print(\"you will be a part of A1 batch\") \n",
    "elif marks >=40 and marks <60:\n",
    "    print(\"you will be a part of A2 batch\")\n",
    "else :\n",
    "    print(\"you will be a part of A3 batch\")"
   ]
  },
  {
   "cell_type": "code",
   "execution_count": 4,
   "id": "772ad650-c3b1-4c63-a3fc-b60391e6196a",
   "metadata": {},
   "outputs": [
    {
     "name": "stdout",
     "output_type": "stream",
     "text": [
      "i will purchase\n"
     ]
    }
   ],
   "source": [
    "price = 100\n",
    "if price >390\n",
    "    print (\"i will not puchase\")\n",
    "else :\n",
    "    print(\"i will purchase\")"
   ]
  },
  {
   "cell_type": "code",
   "execution_count": 19,
   "id": "b6e70aa8-1801-480f-a777-96422a518f10",
   "metadata": {},
   "outputs": [
    {
     "name": "stdout",
     "output_type": "stream",
     "text": [
      "i will purchase\n"
     ]
    }
   ],
   "source": [
    "price = 200\n",
    "if price >390:\n",
    "    print (\"i will not puchase\")\n",
    "    if price > 200: \n",
    "        print (\"sorry money empty\")\n",
    "else:\n",
    "    print(\"i will purchase\")   "
   ]
  },
  {
   "cell_type": "code",
   "execution_count": 20,
   "id": "8778baf9-1d3c-4874-a942-d1a4635e883d",
   "metadata": {},
   "outputs": [],
   "source": [
    "l = [1,2,3,4,5,6,7,8]"
   ]
  },
  {
   "cell_type": "code",
   "execution_count": 23,
   "id": "0d440f06-86e1-4524-8b0f-8a31c9807d0a",
   "metadata": {},
   "outputs": [
    {
     "data": {
      "text/plain": [
       "31"
      ]
     },
     "execution_count": 23,
     "metadata": {},
     "output_type": "execute_result"
    }
   ],
   "source": [
    "l[0] +30\n"
   ]
  },
  {
   "cell_type": "code",
   "execution_count": 24,
   "id": "c6e38048-ac74-49e6-99b2-bfd6fef3f5a6",
   "metadata": {},
   "outputs": [],
   "source": [
    "l1 = []"
   ]
  },
  {
   "cell_type": "code",
   "execution_count": 25,
   "id": "4d4197e8-1481-4909-9186-178a5bff8c36",
   "metadata": {},
   "outputs": [
    {
     "data": {
      "text/plain": [
       "[]"
      ]
     },
     "execution_count": 25,
     "metadata": {},
     "output_type": "execute_result"
    }
   ],
   "source": [
    "l1"
   ]
  },
  {
   "cell_type": "code",
   "execution_count": 31,
   "id": "976b815b-02ba-4b39-890a-b3ea43bafbbc",
   "metadata": {},
   "outputs": [],
   "source": [
    "l1.append(l[0] +1)\n"
   ]
  },
  {
   "cell_type": "code",
   "execution_count": 32,
   "id": "cf8dcd62-1bce-47a8-8aaa-f2aeb98ecf60",
   "metadata": {},
   "outputs": [
    {
     "data": {
      "text/plain": [
       "[2, 2, 2]"
      ]
     },
     "execution_count": 32,
     "metadata": {},
     "output_type": "execute_result"
    }
   ],
   "source": [
    "l1"
   ]
  },
  {
   "cell_type": "code",
   "execution_count": 33,
   "id": "e73c3ac5-2b72-4855-9167-ff9c55817211",
   "metadata": {},
   "outputs": [],
   "source": [
    "l1 = [1,2,3,4,5,6,7,8]"
   ]
  },
  {
   "cell_type": "code",
   "execution_count": 41,
   "id": "e172c1c9-7b21-4395-9713-ddd33381f066",
   "metadata": {},
   "outputs": [
    {
     "name": "stdout",
     "output_type": "stream",
     "text": [
      "2\n",
      "2\n",
      "2\n"
     ]
    }
   ],
   "source": [
    "for i in l1 :\n",
    "    print (i)"
   ]
  },
  {
   "cell_type": "code",
   "execution_count": 39,
   "id": "b9b3b18b-3194-42e2-aaee-580ed23a3d5c",
   "metadata": {},
   "outputs": [
    {
     "name": "stdout",
     "output_type": "stream",
     "text": [
      "8\n",
      "8\n",
      "8\n"
     ]
    }
   ],
   "source": [
    "for p in l1 :\n",
    "    print (i) "
   ]
  },
  {
   "cell_type": "code",
   "execution_count": 43,
   "id": "8acd298e-13c4-499d-a0c2-e00ce2bc3fee",
   "metadata": {},
   "outputs": [
    {
     "name": "stdout",
     "output_type": "stream",
     "text": [
      "2\n",
      "3\n",
      "4\n",
      "5\n",
      "6\n",
      "7\n",
      "8\n",
      "9\n"
     ]
    }
   ],
   "source": [
    "for i in l :\n",
    "    print (i+1)"
   ]
  },
  {
   "cell_type": "code",
   "execution_count": 44,
   "id": "56c97927-9042-428e-8894-ea7d635b2721",
   "metadata": {},
   "outputs": [
    {
     "data": {
      "text/plain": [
       "[1, 2, 3, 4, 5, 6, 7, 8]"
      ]
     },
     "execution_count": 44,
     "metadata": {},
     "output_type": "execute_result"
    }
   ],
   "source": [
    "l\n"
   ]
  },
  {
   "cell_type": "code",
   "execution_count": 45,
   "id": "4a15667e-807a-47b3-81eb-29eeb80913dd",
   "metadata": {},
   "outputs": [
    {
     "data": {
      "text/plain": [
       "[2, 2, 2]"
      ]
     },
     "execution_count": 45,
     "metadata": {},
     "output_type": "execute_result"
    }
   ],
   "source": [
    "l1"
   ]
  },
  {
   "cell_type": "code",
   "execution_count": 48,
   "id": "b906ef9d-6ab5-490a-b1ab-756363f066a9",
   "metadata": {},
   "outputs": [
    {
     "name": "stdout",
     "output_type": "stream",
     "text": [
      "2\n",
      "3\n",
      "4\n",
      "5\n",
      "6\n",
      "7\n",
      "8\n",
      "9\n"
     ]
    },
    {
     "data": {
      "text/plain": [
       "[2, 3, 4, 5, 6, 7, 8, 9]"
      ]
     },
     "execution_count": 48,
     "metadata": {},
     "output_type": "execute_result"
    }
   ],
   "source": [
    "l1 = []\n",
    "for i in l:\n",
    "    print(i+1)\n",
    "    l1.append(i+1)\n",
    "l1    "
   ]
  },
  {
   "cell_type": "code",
   "execution_count": 49,
   "id": "bfe4ffe2-c895-4915-96db-8c711a3536ef",
   "metadata": {},
   "outputs": [
    {
     "data": {
      "text/plain": [
       "[1, 2, 3, 4, 5, 6, 7, 8]"
      ]
     },
     "execution_count": 49,
     "metadata": {},
     "output_type": "execute_result"
    }
   ],
   "source": [
    "l"
   ]
  },
  {
   "cell_type": "code",
   "execution_count": 50,
   "id": "4cdbe2de-2b1b-4d7a-9698-6cdf2dfbbf18",
   "metadata": {},
   "outputs": [],
   "source": [
    "l = [\"raj\" , \"gupta\" , \"it\"] "
   ]
  },
  {
   "cell_type": "code",
   "execution_count": 51,
   "id": "cfb96ca8-5efd-495f-ac1b-2d75a19a9725",
   "metadata": {},
   "outputs": [
    {
     "data": {
      "text/plain": [
       "['raj', 'gupta', 'it']"
      ]
     },
     "execution_count": 51,
     "metadata": {},
     "output_type": "execute_result"
    }
   ],
   "source": [
    "l"
   ]
  },
  {
   "cell_type": "code",
   "execution_count": 54,
   "id": "f7b3f0f0-8da5-4491-b825-9c4a65108147",
   "metadata": {},
   "outputs": [
    {
     "name": "stdout",
     "output_type": "stream",
     "text": [
      "raj\n",
      "gupta\n",
      "it\n"
     ]
    }
   ],
   "source": [
    "l1 = []\n",
    "for i in l:\n",
    "    print(i)\n",
    "    l1.append(i.upper())"
   ]
  },
  {
   "cell_type": "code",
   "execution_count": 55,
   "id": "9b29da17-2d25-4410-8856-f3d34d14f248",
   "metadata": {},
   "outputs": [
    {
     "data": {
      "text/plain": [
       "['RAJ', 'GUPTA', 'IT']"
      ]
     },
     "execution_count": 55,
     "metadata": {},
     "output_type": "execute_result"
    }
   ],
   "source": [
    "l1"
   ]
  },
  {
   "cell_type": "code",
   "execution_count": 1,
   "id": "d923fff6-97ac-4100-accd-be1ac4a92417",
   "metadata": {},
   "outputs": [
    {
     "name": "stdin",
     "output_type": "stream",
     "text": [
      "enter the number 70\n"
     ]
    },
    {
     "name": "stdout",
     "output_type": "stream",
     "text": [
      "you will be a part of A1 batch\n"
     ]
    }
   ],
   "source": [
    "marks = int(input(\"enter the number\"))\n",
    "if marks >= 80:\n",
    "    print(\"you will be a part of A+ batch\")  \n",
    "elif marks >=60 and marks <80:\n",
    "    print(\"you will be a part of A1 batch\") \n",
    "elif marks >=40 and marks <60:\n",
    "    print(\"you will be a part of A2 batch\")\n",
    "else :\n",
    "    print(\"you will be a part of A3 batch\")"
   ]
  },
  {
   "cell_type": "code",
   "execution_count": 5,
   "id": "5cc9bff8-b18b-4bc6-a4f9-76fecd532335",
   "metadata": {},
   "outputs": [
    {
     "name": "stdin",
     "output_type": "stream",
     "text": [
      "enter the number 60\n"
     ]
    },
    {
     "name": "stdout",
     "output_type": "stream",
     "text": [
      "you will be a part of A1 batch\n"
     ]
    }
   ],
   "source": [
    "marks = int(input(\"enter the number\"))\n",
    "if marks >= 80:\n",
    "    print(\"you will be a part of A+ batch\") \n",
    "    if marks >70:\n",
    "        print(\"you are brillent student\")   \n",
    "else :\n",
    "    print (\"you will be a part of A1 batch\")     "
   ]
  },
  {
   "cell_type": "code",
   "execution_count": 1,
   "id": "fad3fd7c-872b-4050-ac16-cc3704bdf402",
   "metadata": {},
   "outputs": [],
   "source": [
    " l = [1,2,3,4,5,6,7,8]"
   ]
  },
  {
   "cell_type": "code",
   "execution_count": 2,
   "id": "06603b55-3aca-4701-8971-28be6d6ffb2a",
   "metadata": {},
   "outputs": [
    {
     "data": {
      "text/plain": [
       "[1, 2, 3, 4, 5, 6, 7, 8]"
      ]
     },
     "execution_count": 2,
     "metadata": {},
     "output_type": "execute_result"
    }
   ],
   "source": [
    "l"
   ]
  },
  {
   "cell_type": "code",
   "execution_count": 4,
   "id": "a9c586c2-cbea-4d53-af0c-e2976d6f4a42",
   "metadata": {},
   "outputs": [
    {
     "data": {
      "text/plain": [
       "2"
      ]
     },
     "execution_count": 4,
     "metadata": {},
     "output_type": "execute_result"
    }
   ],
   "source": [
    "l[0] +1 "
   ]
  },
  {
   "cell_type": "code",
   "execution_count": 5,
   "id": "04eb1d49-1e46-4686-ae35-3a2999711943",
   "metadata": {},
   "outputs": [],
   "source": [
    "l1 = []"
   ]
  },
  {
   "cell_type": "code",
   "execution_count": 6,
   "id": "d1dadd16-c565-45cb-9863-0fd4c86bb4a6",
   "metadata": {},
   "outputs": [],
   "source": [
    "l1.append(3)"
   ]
  },
  {
   "cell_type": "code",
   "execution_count": 7,
   "id": "aa8377ad-33b7-459c-ba4a-127de9b39861",
   "metadata": {},
   "outputs": [
    {
     "data": {
      "text/plain": [
       "[3]"
      ]
     },
     "execution_count": 7,
     "metadata": {},
     "output_type": "execute_result"
    }
   ],
   "source": [
    "l1"
   ]
  },
  {
   "cell_type": "code",
   "execution_count": 9,
   "id": "fba53055-b55e-4ac0-8a9b-d9f9fd86339e",
   "metadata": {},
   "outputs": [
    {
     "data": {
      "text/plain": [
       "[3]"
      ]
     },
     "execution_count": 9,
     "metadata": {},
     "output_type": "execute_result"
    }
   ],
   "source": [
    "l1"
   ]
  },
  {
   "cell_type": "code",
   "execution_count": 13,
   "id": "154eb486-ea27-4012-ad3b-b876b4aa20cb",
   "metadata": {},
   "outputs": [],
   "source": [
    "l1.append(l[0] +1)"
   ]
  },
  {
   "cell_type": "code",
   "execution_count": 14,
   "id": "48cea431-1e14-4952-ad99-95e03fe1f082",
   "metadata": {},
   "outputs": [
    {
     "data": {
      "text/plain": [
       "[3, 2]"
      ]
     },
     "execution_count": 14,
     "metadata": {},
     "output_type": "execute_result"
    }
   ],
   "source": [
    "l1"
   ]
  },
  {
   "cell_type": "code",
   "execution_count": 15,
   "id": "6eb74669-4cc8-4847-809f-2e331e2acdbb",
   "metadata": {},
   "outputs": [],
   "source": [
    "l=[1,2,3,4,5,6,7,8]"
   ]
  },
  {
   "cell_type": "code",
   "execution_count": 16,
   "id": "a82879cc-ef69-4f9e-93c2-eca9d45b4a6a",
   "metadata": {},
   "outputs": [
    {
     "data": {
      "text/plain": [
       "[1, 2, 3, 4, 5, 6, 7, 8]"
      ]
     },
     "execution_count": 16,
     "metadata": {},
     "output_type": "execute_result"
    }
   ],
   "source": [
    "l"
   ]
  },
  {
   "cell_type": "code",
   "execution_count": 19,
   "id": "9156b6f1-c3df-4ef1-a62e-60f6adc736c2",
   "metadata": {},
   "outputs": [
    {
     "data": {
      "text/plain": [
       "3"
      ]
     },
     "execution_count": 19,
     "metadata": {},
     "output_type": "execute_result"
    }
   ],
   "source": [
    "l[1]+ 1"
   ]
  },
  {
   "cell_type": "code",
   "execution_count": 20,
   "id": "69cc2853-ce26-4bfc-810e-0112c6a6cff3",
   "metadata": {},
   "outputs": [],
   "source": [
    "l1= []"
   ]
  },
  {
   "cell_type": "code",
   "execution_count": 21,
   "id": "c20123be-df3b-4552-bbd4-7eb0829aa49b",
   "metadata": {},
   "outputs": [
    {
     "data": {
      "text/plain": [
       "[]"
      ]
     },
     "execution_count": 21,
     "metadata": {},
     "output_type": "execute_result"
    }
   ],
   "source": [
    "l1"
   ]
  },
  {
   "cell_type": "code",
   "execution_count": 22,
   "id": "e676fc85-f18b-4d24-a7f5-e6ad5b12cb7c",
   "metadata": {},
   "outputs": [],
   "source": [
    "l1.append(l[0] + 1)"
   ]
  },
  {
   "cell_type": "code",
   "execution_count": 23,
   "id": "347ca503-2077-451c-bc24-13c196758000",
   "metadata": {},
   "outputs": [
    {
     "data": {
      "text/plain": [
       "[2]"
      ]
     },
     "execution_count": 23,
     "metadata": {},
     "output_type": "execute_result"
    }
   ],
   "source": [
    "l1"
   ]
  },
  {
   "cell_type": "code",
   "execution_count": 24,
   "id": "cb31f9f0-2061-421f-9ea5-211c3fa34539",
   "metadata": {},
   "outputs": [
    {
     "data": {
      "text/plain": [
       "[1, 2, 3, 4, 5, 6, 7, 8]"
      ]
     },
     "execution_count": 24,
     "metadata": {},
     "output_type": "execute_result"
    }
   ],
   "source": [
    "l"
   ]
  },
  {
   "cell_type": "code",
   "execution_count": 30,
   "id": "d51e06d4-2056-4e44-9015-19baaf4e94d0",
   "metadata": {},
   "outputs": [
    {
     "name": "stdout",
     "output_type": "stream",
     "text": [
      "0\n",
      "1\n",
      "2\n",
      "3\n",
      "4\n",
      "5\n",
      "6\n",
      "7\n"
     ]
    }
   ],
   "source": [
    "for i in l :\n",
    "    print(i - 1)"
   ]
  },
  {
   "cell_type": "code",
   "execution_count": 31,
   "id": "599ce4a0-e5d9-40dd-a52a-7164f081d518",
   "metadata": {},
   "outputs": [
    {
     "name": "stdout",
     "output_type": "stream",
     "text": [
      "2\n",
      "3\n",
      "4\n",
      "5\n",
      "6\n",
      "7\n",
      "8\n",
      "9\n"
     ]
    }
   ],
   "source": [
    "for a in l :\n",
    "    print (a + 1)"
   ]
  },
  {
   "cell_type": "code",
   "execution_count": 33,
   "id": "c0a57816-e57d-4119-8cde-d497215024bd",
   "metadata": {},
   "outputs": [
    {
     "name": "stdout",
     "output_type": "stream",
     "text": [
      "1\n",
      "2\n",
      "3\n",
      "4\n",
      "5\n",
      "6\n",
      "7\n",
      "8\n"
     ]
    }
   ],
   "source": [
    "for a in l :\n",
    "    print (a)"
   ]
  },
  {
   "cell_type": "code",
   "execution_count": 35,
   "id": "b83deb48-b86a-4be7-91d3-4443f2c3eb9b",
   "metadata": {},
   "outputs": [
    {
     "name": "stdout",
     "output_type": "stream",
     "text": [
      "2\n",
      "3\n",
      "4\n",
      "5\n",
      "6\n",
      "7\n",
      "8\n",
      "9\n"
     ]
    }
   ],
   "source": [
    "l1 = []\n",
    "for a in l :\n",
    "    print (a + 1)\n",
    "    l1.append(a+1)"
   ]
  },
  {
   "cell_type": "code",
   "execution_count": 36,
   "id": "407f0f17-ebec-445f-bd59-16c2fd7c617c",
   "metadata": {},
   "outputs": [
    {
     "data": {
      "text/plain": [
       "[2, 3, 4, 5, 6, 7, 8, 9]"
      ]
     },
     "execution_count": 36,
     "metadata": {},
     "output_type": "execute_result"
    }
   ],
   "source": [
    "l1"
   ]
  },
  {
   "cell_type": "code",
   "execution_count": 37,
   "id": "6edf9482-d983-4c39-a779-5564e3ff1772",
   "metadata": {},
   "outputs": [
    {
     "data": {
      "text/plain": [
       "[1, 2, 3, 4, 5, 6, 7, 8]"
      ]
     },
     "execution_count": 37,
     "metadata": {},
     "output_type": "execute_result"
    }
   ],
   "source": [
    "l"
   ]
  },
  {
   "cell_type": "code",
   "execution_count": 55,
   "id": "bd885e9e-9457-451a-b965-4215007fd5c4",
   "metadata": {},
   "outputs": [],
   "source": [
    "l = [\"raj\" , \"gupta\" , \"vishal\"]"
   ]
  },
  {
   "cell_type": "code",
   "execution_count": 56,
   "id": "11b58a32-5fc8-44bc-83e4-bf18fc6194a0",
   "metadata": {},
   "outputs": [
    {
     "name": "stdout",
     "output_type": "stream",
     "text": [
      "raj\n",
      "gupta\n",
      "vishal\n"
     ]
    }
   ],
   "source": [
    "l1 = []\n",
    "for i in l :\n",
    "    print(i)\n",
    "    l1.append(i.upper())"
   ]
  },
  {
   "cell_type": "code",
   "execution_count": 57,
   "id": "d7056a98-ea73-4b20-976c-8f7641e5db95",
   "metadata": {},
   "outputs": [
    {
     "data": {
      "text/plain": [
       "['RAJ', 'GUPTA', 'VISHAL']"
      ]
     },
     "execution_count": 57,
     "metadata": {},
     "output_type": "execute_result"
    }
   ],
   "source": [
    "l1"
   ]
  },
  {
   "cell_type": "code",
   "execution_count": 58,
   "id": "6abee37f-7490-4064-84b8-ed0176947d37",
   "metadata": {},
   "outputs": [],
   "source": [
    " l = [1,2,3,4,5, \"raj\" , \"gupta\"]"
   ]
  },
  {
   "cell_type": "code",
   "execution_count": 59,
   "id": "3a00dc63-bcca-457f-b7d9-2fae6db15153",
   "metadata": {},
   "outputs": [
    {
     "data": {
      "text/plain": [
       "[1, 2, 3, 4, 5, 'raj', 'gupta']"
      ]
     },
     "execution_count": 59,
     "metadata": {},
     "output_type": "execute_result"
    }
   ],
   "source": [
    "l"
   ]
  },
  {
   "cell_type": "code",
   "execution_count": 61,
   "id": "f5a31b49-dce5-4934-b227-caace4dcea77",
   "metadata": {},
   "outputs": [],
   "source": [
    "l1 = []\n",
    "l2 = []\n",
    "for i in l : \n",
    "    if type(i) == int or type(i) == float:\n",
    "        l1.append(i)\n",
    "    elif type(i)    \n",
    "    else :\n",
    "        l2.append(i)"
   ]
  },
  {
   "cell_type": "code",
   "execution_count": 62,
   "id": "82cd3155-3d93-4c19-8ff3-91fd4ab5b7f2",
   "metadata": {},
   "outputs": [
    {
     "data": {
      "text/plain": [
       "[1, 2, 3, 4, 5]"
      ]
     },
     "execution_count": 62,
     "metadata": {},
     "output_type": "execute_result"
    }
   ],
   "source": [
    "l1"
   ]
  },
  {
   "cell_type": "code",
   "execution_count": 63,
   "id": "1e378a35-e82b-4e39-8205-5c336bad0f1f",
   "metadata": {},
   "outputs": [
    {
     "data": {
      "text/plain": [
       "['raj', 'gupta']"
      ]
     },
     "execution_count": 63,
     "metadata": {},
     "output_type": "execute_result"
    }
   ],
   "source": [
    "l2"
   ]
  },
  {
   "cell_type": "code",
   "execution_count": 1,
   "id": "e8229d21-d9c0-4060-a601-f736c2b4a16c",
   "metadata": {},
   "outputs": [],
   "source": [
    " l = [1,2,3,4,5, \"raj\" , True , 342.2424 , \"gupta\"]"
   ]
  },
  {
   "cell_type": "code",
   "execution_count": 2,
   "id": "77f7bb0a-00d1-4dfb-8661-e601c1e4ee24",
   "metadata": {},
   "outputs": [
    {
     "data": {
      "text/plain": [
       "[1, 2, 3, 4, 5, 'raj', True, 342.2424, 'gupta']"
      ]
     },
     "execution_count": 2,
     "metadata": {},
     "output_type": "execute_result"
    }
   ],
   "source": [
    "l"
   ]
  },
  {
   "cell_type": "code",
   "execution_count": 20,
   "id": "def9099c-594b-432e-afb3-566cb8654e10",
   "metadata": {},
   "outputs": [],
   "source": [
    "l1 = []\n",
    "l2 = []\n",
    "l3 = []\n",
    "for i in l :\n",
    "    if type(i)  == int : \n",
    "        l1.append(i)\n",
    "    elif type(i) == float or type (i) == bool:\n",
    "        l2.append(i)\n",
    "    else :\n",
    "        l3.append(i)"
   ]
  },
  {
   "cell_type": "code",
   "execution_count": 9,
   "id": "0b30ce6d-3f30-475f-be4d-c98845097a85",
   "metadata": {},
   "outputs": [
    {
     "data": {
      "text/plain": [
       "[1, 2, 3, 4, 5]"
      ]
     },
     "execution_count": 9,
     "metadata": {},
     "output_type": "execute_result"
    }
   ],
   "source": [
    "l1"
   ]
  },
  {
   "cell_type": "code",
   "execution_count": 13,
   "id": "2e1dad90-85f8-497a-86a5-00fa1ae10f2a",
   "metadata": {},
   "outputs": [
    {
     "data": {
      "text/plain": [
       "[1, 2, 3, 4, 5]"
      ]
     },
     "execution_count": 13,
     "metadata": {},
     "output_type": "execute_result"
    }
   ],
   "source": [
    "l3"
   ]
  },
  {
   "cell_type": "code",
   "execution_count": 17,
   "id": "3131691f-debb-4dcd-aaeb-d93cb144f4e5",
   "metadata": {},
   "outputs": [
    {
     "data": {
      "text/plain": [
       "[342.2424]"
      ]
     },
     "execution_count": 17,
     "metadata": {},
     "output_type": "execute_result"
    }
   ],
   "source": [
    "l2"
   ]
  },
  {
   "cell_type": "code",
   "execution_count": 18,
   "id": "30e44e30-2be4-44ae-9ec7-7c3ccc5cc75b",
   "metadata": {},
   "outputs": [
    {
     "data": {
      "text/plain": [
       "['raj', True, 'gupta']"
      ]
     },
     "execution_count": 18,
     "metadata": {},
     "output_type": "execute_result"
    }
   ],
   "source": [
    "l3"
   ]
  },
  {
   "cell_type": "code",
   "execution_count": 21,
   "id": "ffc9a173-f404-4ddf-9d80-f6e5f5cc7609",
   "metadata": {},
   "outputs": [
    {
     "data": {
      "text/plain": [
       "[True, 342.2424]"
      ]
     },
     "execution_count": 21,
     "metadata": {},
     "output_type": "execute_result"
    }
   ],
   "source": [
    "l2"
   ]
  },
  {
   "cell_type": "code",
   "execution_count": 1,
   "id": "a3a3932b-942f-4946-9991-fdce2cd708db",
   "metadata": {},
   "outputs": [],
   "source": [
    "u=[1,2,3,4,5, \"raja\" , \"taruna\" , 23.422 , True , False]"
   ]
  },
  {
   "cell_type": "code",
   "execution_count": 2,
   "id": "5d702719-df28-47ed-b907-75fb3efe9628",
   "metadata": {},
   "outputs": [
    {
     "data": {
      "text/plain": [
       "[1, 2, 3, 4, 5, 'raja', 'taruna', 23.422, True, False]"
      ]
     },
     "execution_count": 2,
     "metadata": {},
     "output_type": "execute_result"
    }
   ],
   "source": [
    "u"
   ]
  },
  {
   "cell_type": "code",
   "execution_count": 7,
   "id": "d015fe02-91a0-47a2-9278-0a40aea5759e",
   "metadata": {},
   "outputs": [
    {
     "ename": "NameError",
     "evalue": "name 'l' is not defined",
     "output_type": "error",
     "traceback": [
      "\u001b[0;31m---------------------------------------------------------------------------\u001b[0m",
      "\u001b[0;31mNameError\u001b[0m                                 Traceback (most recent call last)",
      "Cell \u001b[0;32mIn[7], line 4\u001b[0m\n\u001b[1;32m      2\u001b[0m u2\u001b[38;5;241m=\u001b[39m[]\n\u001b[1;32m      3\u001b[0m u3\u001b[38;5;241m=\u001b[39m[]\n\u001b[0;32m----> 4\u001b[0m \u001b[38;5;28;01mfor\u001b[39;00m i \u001b[38;5;129;01min\u001b[39;00m \u001b[43ml\u001b[49m :\n\u001b[1;32m      5\u001b[0m     u\n",
      "\u001b[0;31mNameError\u001b[0m: name 'l' is not defined"
     ]
    }
   ],
   "source": [
    "l1 = []\n",
    "l2 = []\n",
    "l3 = []\n",
    "for i in l :\n",
    "    if type(i)  == int : \n",
    "        l1.append(i)\n",
    "    elif type(i) == float or type (i) == bool:\n",
    "        l2.append(i)\n",
    "    else :\n",
    "        l3.append(i)"
   ]
  },
  {
   "cell_type": "code",
   "execution_count": 12,
   "id": "4deb45f3-2161-4226-a636-ab848bb0d445",
   "metadata": {},
   "outputs": [],
   "source": [
    "l1 = []\n",
    "l2 = []\n",
    "l3 = []\n",
    "for i in u:\n",
    "    if type(i) == int:\n",
    "        l1.append(i)\n",
    "    elif type(i) == float or type (i) == bool:\n",
    "        l2.append(i)\n",
    "    else :\n",
    "        l3.append(i)"
   ]
  },
  {
   "cell_type": "code",
   "execution_count": 10,
   "id": "97d72aa9-e923-40d9-b79e-7457145d9762",
   "metadata": {},
   "outputs": [
    {
     "data": {
      "text/plain": [
       "[1, 2, 3, 4, 5]"
      ]
     },
     "execution_count": 10,
     "metadata": {},
     "output_type": "execute_result"
    }
   ],
   "source": [
    "l1"
   ]
  },
  {
   "cell_type": "code",
   "execution_count": 13,
   "id": "a7705c55-eea0-443c-ad20-0ce7f6fa0e76",
   "metadata": {},
   "outputs": [
    {
     "data": {
      "text/plain": [
       "[23.422, True, False]"
      ]
     },
     "execution_count": 13,
     "metadata": {},
     "output_type": "execute_result"
    }
   ],
   "source": [
    "l2"
   ]
  },
  {
   "cell_type": "code",
   "execution_count": 14,
   "id": "6ac5d0d7-8521-4fda-b0df-8a5f757f66d0",
   "metadata": {},
   "outputs": [
    {
     "data": {
      "text/plain": [
       "['raja', 'taruna']"
      ]
     },
     "execution_count": 14,
     "metadata": {},
     "output_type": "execute_result"
    }
   ],
   "source": [
    "l3"
   ]
  },
  {
   "cell_type": "code",
   "execution_count": null,
   "id": "8846237d-c5ab-4023-89e6-1623c85e0f0f",
   "metadata": {},
   "outputs": [],
   "source": []
  }
 ],
 "metadata": {
  "kernelspec": {
   "display_name": "Python 3 (ipykernel)",
   "language": "python",
   "name": "python3"
  },
  "language_info": {
   "codemirror_mode": {
    "name": "ipython",
    "version": 3
   },
   "file_extension": ".py",
   "mimetype": "text/x-python",
   "name": "python",
   "nbconvert_exporter": "python",
   "pygments_lexer": "ipython3",
   "version": "3.10.8"
  }
 },
 "nbformat": 4,
 "nbformat_minor": 5
}
